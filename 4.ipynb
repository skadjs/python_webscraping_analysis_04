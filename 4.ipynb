{
 "cells": [
  {
   "cell_type": "code",
   "execution_count": 14,
   "id": "ccefab2e",
   "metadata": {},
   "outputs": [],
   "source": [
    "# 0. 기본 세팅\n",
    "# 필요 라이브러리 import\n",
    "import pandas as pd\n",
    "import matplotlib.pyplot as plt\n",
    "import seaborn as sns"
   ]
  },
  {
   "cell_type": "code",
   "execution_count": 15,
   "id": "60615dd9",
   "metadata": {},
   "outputs": [],
   "source": [
    "# 0. 기본 세팅\n",
    "# 폰트 및 한글 설정\n",
    "plt.rcParams['font.family'] = 'AppleGothic'\n",
    "plt.rcParams['axes.unicode_minus'] = False"
   ]
  },
  {
   "cell_type": "code",
   "execution_count": 16,
   "id": "87671163",
   "metadata": {},
   "outputs": [],
   "source": [
    "# 0. 기본 세팅\n",
    "# 분석할 csv 파일 불러오기\n",
    "file_path = \"/Users/eon/skRookies/myPython/Python_WebScraping_Analysis/data/인구현황.csv\"\n",
    "df = pd.read_csv(file_path, encoding='utf-8')"
   ]
  },
  {
   "cell_type": "code",
   "execution_count": 17,
   "id": "c68bfa68",
   "metadata": {},
   "outputs": [],
   "source": [
    "# 0. 기본 세팅\n",
    "# 필터링 - 결괏값에 \"전국\" 미포함\n",
    "df = df[df['행정기관'] != '전국']"
   ]
  },
  {
   "cell_type": "code",
   "execution_count": 18,
   "id": "8a589d88",
   "metadata": {},
   "outputs": [],
   "source": [
    "# 4. 남자초과 / 여자초과 분석\n",
    "# 성별 초과 판정하는 함수 정의\n",
    "def 초과구분(ratio):\n",
    "    if ratio > 1:\n",
    "        return '남초'\n",
    "    elif ratio < 1:\n",
    "        return '여초'\n",
    "    else:\n",
    "        return '동일'"
   ]
  },
  {
   "cell_type": "code",
   "execution_count": 19,
   "id": "82cc30a1",
   "metadata": {},
   "outputs": [],
   "source": [
    "# 4. 남자초과 / 여자초과 분석\n",
    "# \"남초여초\" 컬럼 생성\n",
    "df['남초여초'] = df['남여 비율'].apply(초과구분)"
   ]
  },
  {
   "cell_type": "code",
   "execution_count": 20,
   "id": "ff0e7c8c",
   "metadata": {},
   "outputs": [],
   "source": [
    "# 4. 남자초과 / 여자초과 분석\n",
    "# 지역별 특정 성별 초과 테이블 추출\n",
    "gender_excess = (df[['행정기관', '남여 비율', '남초여초']])"
   ]
  },
  {
   "cell_type": "code",
   "execution_count": 21,
   "id": "3a4ffa30",
   "metadata": {},
   "outputs": [
    {
     "name": "stdout",
     "output_type": "stream",
     "text": [
      "       행정기관  남여 비율 남초여초\n",
      "1     서울특별시   0.93   여초\n",
      "2     부산광역시   0.95   여초\n",
      "3     대구광역시   0.96   여초\n",
      "4     인천광역시   1.00   동일\n",
      "5     광주광역시   0.97   여초\n",
      "6     대전광역시   0.99   여초\n",
      "7     울산광역시   1.06   남초\n",
      "8   세종특별자치시   0.99   여초\n",
      "9       경기도   1.01   남초\n",
      "10  강원특별자치도   1.01   남초\n",
      "11     충청북도   1.04   남초\n",
      "12     충청남도   1.05   남초\n",
      "13  전북특별자치도   0.99   여초\n",
      "14     전라남도   1.02   남초\n",
      "15     경상북도   1.02   남초\n",
      "16     경상남도   1.02   남초\n",
      "17  제주특별자치도   1.00   동일\n"
     ]
    }
   ],
   "source": [
    "# 4. 남자초과 / 여자초과 분석\n",
    "# 결과 출력\n",
    "print(gender_excess)"
   ]
  },
  {
   "cell_type": "code",
   "execution_count": 22,
   "id": "a9ce803f",
   "metadata": {},
   "outputs": [
    {
     "name": "stderr",
     "output_type": "stream",
     "text": [
      "/var/folders/p_/_c9chpr14vxg3hvpscn52m740000gn/T/ipykernel_97579/1031341385.py:4: FutureWarning: \n",
      "\n",
      "Passing `palette` without assigning `hue` is deprecated and will be removed in v0.14.0. Assign the `x` variable to `hue` and set `legend=False` for the same effect.\n",
      "\n",
      "  sns.countplot(\n"
     ]
    },
    {
     "data": {
      "image/png": "[encoded data removed]",
      "text/plain": [
       "<Figure size 600x400 with 1 Axes>"
      ]
     },
     "metadata": {},
     "output_type": "display_data"
    }
   ],
   "source": [
    "# 5-1. 남초 vs 여초 개수 Plot(seaborn의 countplot), 지역별 세대수 Plot(seaborn의 barplot)\n",
    "# 남초 vs 여초 개수 Plot(seaborn의 countplot)\n",
    "plt.figure(figsize=(6,4))\n",
    "sns.countplot(\n",
    "    data=df,\n",
    "    x='남초여초',\n",
    "    palette={\n",
    "        '남초': 'green',\n",
    "        '여초': 'orange',\n",
    "        '동일': 'skyblue'\n",
    "    })\n",
    "plt.title('남초 vs 여초 지역 개수')\n",
    "plt.tight_layout()\n",
    "plt.show()"
   ]
  }
 ],
 "metadata": {
  "kernelspec": {
   "display_name": "base",
   "language": "python",
   "name": "python3"
  },
  "language_info": {
   "codemirror_mode": {
    "name": "ipython",
    "version": 3
   },
   "file_extension": ".py",
   "mimetype": "text/x-python",
   "name": "python",
   "nbconvert_exporter": "python",
   "pygments_lexer": "ipython3",
   "version": "3.13.5"
  }
 },
 "nbformat": 4,
 "nbformat_minor": 5
}
